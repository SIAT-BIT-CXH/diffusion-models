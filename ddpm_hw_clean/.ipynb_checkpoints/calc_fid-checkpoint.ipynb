{
 "cells": [
  {
   "cell_type": "code",
   "execution_count": 7,
   "metadata": {},
   "outputs": [],
   "source": [
    "import torch\n",
    "import numpy as np\n",
    "\n",
    "from skimage.io import imread, imsave\n",
    "from tqdm.auto import trange, tqdm\n",
    "from torchvision.datasets import MNIST\n",
    "from pytorch_fid import fid_score\n",
    "\n",
    "from data_generator import DataGenerator\n",
    "from default_mnist_config import create_default_mnist_config\n",
    "from diffusion import DiffusionRunner\n",
    "from models.classifier import ResNet, ResidualBlock, ConditionalResNet\n",
    "\n",
    "from matplotlib import pyplot as plt\n",
    "\n",
    "import os\n",
    "\n",
    "os.environ['CUDA_VISIBLE_DEVICES'] = '1'"
   ]
  },
  {
   "cell_type": "markdown",
   "metadata": {},
   "source": [
    "#### Определим папку с настоящими картинками"
   ]
  },
  {
   "cell_type": "code",
   "execution_count": 3,
   "metadata": {},
   "outputs": [],
   "source": [
    "def create_dir(path: str):\n",
    "    if not os.path.exists(path):\n",
    "        os.makedirs(path)"
   ]
  },
  {
   "cell_type": "code",
   "execution_count": 6,
   "metadata": {},
   "outputs": [
    {
     "data": {
      "application/vnd.jupyter.widget-view+json": {
       "model_id": "54594e13946e44bd93cfb870b8c5bdc3",
       "version_major": 2,
       "version_minor": 0
      },
      "text/plain": [
       "  0%|          | 0/60000 [00:00<?, ?it/s]"
      ]
     },
     "metadata": {},
     "output_type": "display_data"
    }
   ],
   "source": [
    "create_dir('../real_images_MNIST')\n",
    "\n",
    "real_dataset = MNIST(root='../data', download=True, train=True, transform=Compose([Resize((32, 32))]))\n",
    "for idx, (image_mnist, label) in enumerate(tqdm(real_dataset, total=len(real_dataset))):\n",
    "    image = np.array(image_mnist)\n",
    "    imsave(\"../real_images_MNIST/{}.png\".format(idx), image)"
   ]
  },
  {
   "cell_type": "markdown",
   "metadata": {},
   "source": [
    "#### Определим папку для синтетических картинок и сгенерируем 60к картинок"
   ]
  },
  {
   "cell_type": "code",
   "execution_count": 8,
   "metadata": {},
   "outputs": [],
   "source": [
    "uncond_diff = DiffusionRunner(create_default_mnist_config(), eval=True)"
   ]
  },
  {
   "cell_type": "code",
   "execution_count": null,
   "metadata": {},
   "outputs": [
    {
     "data": {
      "application/vnd.jupyter.widget-view+json": {
       "model_id": "e5939d78aea143c1952302349f1e08e6",
       "version_major": 2,
       "version_minor": 0
      },
      "text/plain": [
       "  0%|          | 0/300 [00:00<?, ?it/s]"
      ]
     },
     "metadata": {},
     "output_type": "display_data"
    }
   ],
   "source": [
    "create_dir('../uncond_mnist')\n",
    "\n",
    "TOTAL_IMAGES_COUNT = 60_000\n",
    "BATCH_SIZE = 200\n",
    "NUM_ITERS = TOTAL_IMAGES_COUNT // BATCH_SIZE\n",
    "\n",
    "global_idx = 0\n",
    "for idx in trange(NUM_ITERS):\n",
    "    images: torch.Tensor = uncond_diff.sample_images(batch_size=BATCH_SIZE).cpu()\n",
    "    images = images.permute(0, 2, 3, 1).data.numpy().astype(np.uint8)\n",
    "\n",
    "    for i in range(len(images)):\n",
    "        imsave(os.path.join('../uncond_mnist', f'{global_idx}.png'), images[i])\n",
    "        global_idx += 1"
   ]
  },
  {
   "cell_type": "code",
   "execution_count": null,
   "metadata": {},
   "outputs": [],
   "source": [
    "fid_value = fid_score.calculate_fid_given_paths(\n",
    "    paths=['real_images_MNIST', 'uncond_mnist'],\n",
    "    batch_size=200,\n",
    "    device=device,\n",
    "    dims=2048\n",
    ")\n",
    "fid_value"
   ]
  },
  {
   "cell_type": "markdown",
   "metadata": {},
   "source": [
    "тут новое"
   ]
  },
  {
   "cell_type": "code",
   "execution_count": null,
   "metadata": {},
   "outputs": [],
   "source": [
    "cond_diff = DiffusionRunner(create_default_mnist_config(), eval=True)\n",
    "cond_diff.model.eval()\n",
    "\n",
    "classifier_args = {\n",
    "    \"block\": ResidualBlock,\n",
    "    \"layers\": [2, 2, 2, 2]\n",
    "}\n",
    "noisy_classifier = ConditionalResNet(**classifier_args)\n",
    "noisy_classifier.to(device)\n",
    "\n",
    "noisy_classifier.load_state_dict(torch.load('./drive/MyDrive/ddpm_checkpoints/classifier.pth'))\n",
    "\n",
    "cond_diff.set_classifier(noisy_classifier, 1.0)"
   ]
  },
  {
   "cell_type": "code",
   "execution_count": null,
   "metadata": {},
   "outputs": [],
   "source": [
    "create_dir('./cond_mnist')\n",
    "\n",
    "labels = torch.arange(10, device=device).repeat(BATCH_SIZE // 10)\n",
    "\n",
    "global_idx = 0\n",
    "for idx in trange(NUM_ITERS):\n",
    "    images: torch.Tensor = cond_diff.sample_images(batch_size=BATCH_SIZE, labels=labels).cpu()\n",
    "    images = images.permute(0, 2, 3, 1).data.numpy().astype(np.uint8)\n",
    "\n",
    "    for i in range(len(images)):\n",
    "        imsave(os.path.join('./cond_mnist', f'{global_idx}.png'), images[i])\n",
    "        global_idx += 1"
   ]
  },
  {
   "cell_type": "markdown",
   "metadata": {},
   "source": [
    "> Какой фид получился? Сравните FID для безусловной генерации и для условной. Сгенерируйте для каждого класса по 6к картинок и посчитайте FID между реальными и условно сгенерированными картинками."
   ]
  }
 ],
 "metadata": {
  "kernelspec": {
   "display_name": "Python 3",
   "language": "python",
   "name": "python3"
  },
  "language_info": {
   "codemirror_mode": {
    "name": "ipython",
    "version": 3
   },
   "file_extension": ".py",
   "mimetype": "text/x-python",
   "name": "python",
   "nbconvert_exporter": "python",
   "pygments_lexer": "ipython3",
   "version": "3.8.3"
  }
 },
 "nbformat": 4,
 "nbformat_minor": 5
}
